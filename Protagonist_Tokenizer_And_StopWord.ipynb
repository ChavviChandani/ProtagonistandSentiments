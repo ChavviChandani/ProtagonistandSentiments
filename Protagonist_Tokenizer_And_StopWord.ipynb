{
  "nbformat": 4,
  "nbformat_minor": 0,
  "metadata": {
    "colab": {
      "name": "Protagonist_Tokenizer_And_StopWord.ipynb",
      "provenance": [],
      "mount_file_id": "1l3C_JnHx63l9q9eHMAdsd7DdRg1pP7cW",
      "authorship_tag": "ABX9TyNARAuZklByPMR2LJwM2q8j"
    },
    "kernelspec": {
      "name": "python3",
      "display_name": "Python 3"
    },
    "accelerator": "GPU"
  },
  "cells": [
    {
      "cell_type": "code",
      "metadata": {
        "id": "7uxAqCgvDuE-",
        "colab_type": "code",
        "outputId": "10b60423-936f-422a-beb0-8ef9b8980287",
        "colab": {
          "base_uri": "https://localhost:8080/",
          "height": 35
        }
      },
      "source": [
        "!pip install vaderSentiment"
      ],
      "execution_count": 0,
      "outputs": [
        {
          "output_type": "stream",
          "text": [
            "Requirement already satisfied: vaderSentiment in /usr/local/lib/python3.6/dist-packages (3.3.1)\n"
          ],
          "name": "stdout"
        }
      ]
    },
    {
      "cell_type": "code",
      "metadata": {
        "id": "2sGtcw6CxjjA",
        "colab_type": "code",
        "outputId": "646aa8f5-f3c6-488c-bfc0-afdaafa8871e",
        "colab": {
          "base_uri": "https://localhost:8080/",
          "height": 155
        }
      },
      "source": [
        "import nltk\n",
        "nltk.download('punkt')\n",
        "nltk.download('brown')\n",
        "nltk.download('averaged_perceptron_tagger')\n",
        "from nltk import word_tokenize\n",
        "\n",
        "from textblob import TextBlob\n",
        "from textblob import sentiments\n",
        "\n",
        "import os\n",
        "\n",
        "from vaderSentiment.vaderSentiment import SentimentIntensityAnalyzer"
      ],
      "execution_count": 0,
      "outputs": [
        {
          "output_type": "stream",
          "text": [
            "[nltk_data] Downloading package punkt to /root/nltk_data...\n",
            "[nltk_data]   Package punkt is already up-to-date!\n",
            "[nltk_data] Downloading package brown to /root/nltk_data...\n",
            "[nltk_data]   Package brown is already up-to-date!\n",
            "[nltk_data] Downloading package averaged_perceptron_tagger to\n",
            "[nltk_data]     /root/nltk_data...\n",
            "[nltk_data]   Package averaged_perceptron_tagger is already up-to-\n",
            "[nltk_data]       date!\n"
          ],
          "name": "stdout"
        }
      ]
    },
    {
      "cell_type": "code",
      "metadata": {
        "id": "dbvnC9xsMwws",
        "colab_type": "code",
        "colab": {}
      },
      "source": [
        "def readTxt():\n",
        "  text=open('/content/drive/My Drive/Anthony Adverse.txt')\n",
        "  text= text.read()\n",
        "  return text"
      ],
      "execution_count": 0,
      "outputs": []
    },
    {
      "cell_type": "code",
      "metadata": {
        "id": "cX0S_2H_OCQX",
        "colab_type": "code",
        "colab": {}
      },
      "source": [
        "def tokenizeTxt(text):\n",
        "  token = word_tokenize(text)\n",
        "  return token"
      ],
      "execution_count": 0,
      "outputs": []
    },
    {
      "cell_type": "code",
      "metadata": {
        "id": "KjamOeqmt6gQ",
        "colab_type": "code",
        "colab": {}
      },
      "source": [
        "def remove_stopwords(token):\n",
        "  stop_words=[\"a\", \"about\", \"above\", \"after\", \"again\", \"against\", \"all\", \"am\", \"an\", \"and\", \"any\", \"are\", \"as\", \"at\", \"be\", \"because\", \"been\", \"before\", \"being\", \"below\", \"between\", \"both\", \"but\", \"by\", \"could\", \"did\", \"do\", \"does\", \"doing\", \"down\", \"during\", \"each\", \"few\", \"for\", \"from\", \"further\", \"had\", \"has\", \"have\", \"having\", \"he\", \"he'd\", \"he'll\", \"he's\", \"her\", \"here\", \"here's\", \"hers\", \"herself\", \"him\", \"himself\", \"his\", \"how\", \"how's\", \"i\", \"i'd\", \"i'll\", \"i'm\", \"i've\", \"if\", \"in\", \"into\", \"is\", \"it\", \"it's\", \"its\", \"itself\", \"let's\", \"me\", \"more\", \"most\", \"my\", \"myself\", \"nor\", \"of\",\"oh \" ,\"oh\", \"on\", \"once\", \"only\", \"or\", \"other\", \"ought\", \"our\", \"ours\", \"ourselves\", \"out\", \"over\", \"own\", \"same\", \"she\", \"she'd\", \"she'll\", \"she's\", \"should\", \"so\", \"some\", \"such\", \"than\", \"that\", \"that's\", \"the\", \"their\", \"theirs\", \"them\", \"themselves\", \"then\", \"there\", \"there's\", \"these\", \"they\", \"they'd\", \"they'll\", \"they're\", \"they've\", \"this\", \"those\", \"through\", \"to\", \"too\", \"under\", \"until\", \"up\", \"very\", \"was\", \"we\", \"we'd\", \"we'll\", \"we're\", \"we've\", \"were\", \"what\", \"what's\", \"when\", \"when's\", \"where\", \"where's\", \"which\", \"while\", \"who\", \"who's\", \"whom\", \"why\", \"why's\", \"with\", \"would\", \"you\", \"you'd\", \"you'll\", \"you're\", \"you've\", \"your\", \"yours\", \"yourself\", \"yourselves\"]\n",
        "  for i in token:\n",
        "    for s in stop_words:\n",
        "      if(i == s):\n",
        "        token.remove(s)\n",
        "    return token"
      ],
      "execution_count": 0,
      "outputs": []
    },
    {
      "cell_type": "code",
      "metadata": {
        "id": "DutTZJ8e4Y0H",
        "colab_type": "code",
        "colab": {}
      },
      "source": [
        "def tokenTostring(token):\n",
        "  token_toString=\"\"\n",
        "  for i in token:\n",
        "    token_toString+=i+\" \"\n",
        "  return token_toString"
      ],
      "execution_count": 0,
      "outputs": []
    },
    {
      "cell_type": "code",
      "metadata": {
        "id": "3tOKYttZPuhR",
        "colab_type": "code",
        "colab": {}
      },
      "source": [
        "def remove_puntuations(token_toString):\n",
        "  clearingSymbols = '!\"#$%&\\'()*+,-./:;<=>?@[\\\\]^_`{|}~“’”'\n",
        "  for c in clearingSymbols:\n",
        "    token_toString = token_toString.replace(c,'')\n",
        "  return token_toString"
      ],
      "execution_count": 0,
      "outputs": []
    },
    {
      "cell_type": "code",
      "metadata": {
        "id": "OX-O-zsWZNEn",
        "colab_type": "code",
        "colab": {}
      },
      "source": [
        "def blob(token_toString):\n",
        "  blob=TextBlob(token_toString)\n",
        "  return blob"
      ],
      "execution_count": 0,
      "outputs": []
    },
    {
      "cell_type": "code",
      "metadata": {
        "id": "sl_FBHV6kBFr",
        "colab_type": "code",
        "colab": {}
      },
      "source": [
        "def top10words(blob):\n",
        "  d= blob.np_counts\n",
        "  d=dict(d)\n",
        "  top10= sorted(d,key=d.get,reverse=True)\n",
        "  return top10[:10]"
      ],
      "execution_count": 0,
      "outputs": []
    },
    {
      "cell_type": "code",
      "metadata": {
        "id": "0txlxYMpZ-KM",
        "colab_type": "code",
        "colab": {}
      },
      "source": [
        "def word_tagging(blob):\n",
        "  tagged_dict=blob.tags\n",
        "  return tagged_dict"
      ],
      "execution_count": 0,
      "outputs": []
    },
    {
      "cell_type": "code",
      "metadata": {
        "id": "TfmCN_1kAR2M",
        "colab_type": "code",
        "colab": {}
      },
      "source": [
        "def possible_protagonist(top10,tagged_dict):\n",
        "  pp=[]\n",
        "  proper_noun=['NNP']\n",
        "  verbs= ['VB','VBD','VBG','VBN','VBP','VBZ']\n",
        "  for word in top10:\n",
        "    count = 0\n",
        "    for i in range(0,len(tagged_dict)):\n",
        "      if(tagged_dict[i][0] == word or tagged_dict[i][0] == word.title()):  \n",
        "        if(tagged_dict[i][1] in proper_noun and tagged_dict[i+1][1] in verbs):\n",
        "          if(word not in pp):\n",
        "            pp.append(word)\n",
        "  return pp"
      ],
      "execution_count": 0,
      "outputs": []
    },
    {
      "cell_type": "code",
      "metadata": {
        "id": "H5cLpyGkeYj3",
        "colab_type": "code",
        "colab": {}
      },
      "source": [
        "a= readTxt()"
      ],
      "execution_count": 0,
      "outputs": []
    },
    {
      "cell_type": "code",
      "metadata": {
        "id": "_gTpnJkBebpA",
        "colab_type": "code",
        "colab": {}
      },
      "source": [
        "b= tokenizeTxt(a)"
      ],
      "execution_count": 0,
      "outputs": []
    },
    {
      "cell_type": "code",
      "metadata": {
        "id": "QYY2K5bTlbnu",
        "colab_type": "code",
        "colab": {}
      },
      "source": [
        "c= remove_stopwords(b)"
      ],
      "execution_count": 0,
      "outputs": []
    },
    {
      "cell_type": "code",
      "metadata": {
        "id": "0LEYxr6kldi8",
        "colab_type": "code",
        "colab": {}
      },
      "source": [
        "d= tokenTostring(c)"
      ],
      "execution_count": 0,
      "outputs": []
    },
    {
      "cell_type": "code",
      "metadata": {
        "id": "SZbP0Q2WlfEN",
        "colab_type": "code",
        "colab": {}
      },
      "source": [
        "e= remove_puntuations(d)"
      ],
      "execution_count": 0,
      "outputs": []
    },
    {
      "cell_type": "code",
      "metadata": {
        "id": "g8ju1Q1ulg75",
        "colab_type": "code",
        "colab": {}
      },
      "source": [
        "f= blob(e)"
      ],
      "execution_count": 0,
      "outputs": []
    },
    {
      "cell_type": "code",
      "metadata": {
        "id": "jQlih_q4vUp6",
        "colab_type": "code",
        "colab": {}
      },
      "source": [
        "g= top10words(f)"
      ],
      "execution_count": 0,
      "outputs": []
    },
    {
      "cell_type": "code",
      "metadata": {
        "id": "MX8N0qTGljF_",
        "colab_type": "code",
        "colab": {}
      },
      "source": [
        "h= word_tagging(f)"
      ],
      "execution_count": 0,
      "outputs": []
    },
    {
      "cell_type": "code",
      "metadata": {
        "id": "bIFXftEP6zGQ",
        "colab_type": "code",
        "colab": {}
      },
      "source": [
        "i=possible_protagonist(g,h)"
      ],
      "execution_count": 0,
      "outputs": []
    },
    {
      "cell_type": "code",
      "metadata": {
        "id": "8rkKtMJkxk91",
        "colab_type": "code",
        "outputId": "f9c0d182-50e9-4491-ba1b-be6327818ff2",
        "colab": {
          "base_uri": "https://localhost:8080/",
          "height": 35
        }
      },
      "source": [
        "i"
      ],
      "execution_count": 0,
      "outputs": [
        {
          "output_type": "execute_result",
          "data": {
            "text/plain": [
              "['anthony', 'maria', 'toussaint', 'angela', 'vincent', 'denis', 'faith']"
            ]
          },
          "metadata": {
            "tags": []
          },
          "execution_count": 23
        }
      ]
    },
    {
      "cell_type": "code",
      "metadata": {
        "id": "9tWABwubK13G",
        "colab_type": "code",
        "colab": {}
      },
      "source": [
        "#I don't hate you\n",
        "#You can do better\n",
        "#I don't love you\n",
        "#I don't love you\n",
        "#string = \"Sun rises in the east\""
      ],
      "execution_count": 0,
      "outputs": []
    },
    {
      "cell_type": "code",
      "metadata": {
        "colab_type": "code",
        "id": "OI9KLIax4YSA",
        "colab": {}
      },
      "source": [
        "# from textblob import TextBlob\n",
        "# def sentiment_textblob(feedback): \n",
        "#   senti = TextBlob(feedback) \n",
        "#   polarity = senti.sentiment.polarity \n",
        "#   if -1 <= polarity < -0.5: \n",
        "#     label = 'very bad' \n",
        "#   elif -0.5 <= polarity < -0.1: \n",
        "#     label = 'bad' \n",
        "#   elif -0.1 <= polarity < 0.2: \n",
        "#     label = 'ok' \n",
        "#   elif 0.2 <= polarity < 0.6: \n",
        "#     label = 'good' \n",
        "#   elif 0.6 <= polarity <= 1: \n",
        "#     label = 'positive' \n",
        "#   return (polarity, label) \n",
        "# sentiment = sentiment_textblob(o)"
      ],
      "execution_count": 0,
      "outputs": []
    },
    {
      "cell_type": "code",
      "metadata": {
        "id": "RzjFZykh8tQO",
        "colab_type": "code",
        "outputId": "e7b9717f-f4b7-43db-d33b-dd5df442ee58",
        "colab": {
          "base_uri": "https://localhost:8080/",
          "height": 242
        }
      },
      "source": [
        "dataset = os.listdir(\"/content/drive/My Drive/Reference Resolved Content\")\n",
        "dataset"
      ],
      "execution_count": 0,
      "outputs": [
        {
          "output_type": "execute_result",
          "data": {
            "text/plain": [
              "['action_at_aquila.txt',\n",
              " 'cimarron.txt',\n",
              " 'angel_pavement.txt',\n",
              " 'anthony_adverse.txt',\n",
              " 'dodsworth.txt',\n",
              " 'goodbye_mr_chips.txt',\n",
              " 'maid_in_waiting.txt',\n",
              " 'magnificent_obsession.txt',\n",
              " 'of_time_and_river.txt',\n",
              " 'rogue_herris.txt',\n",
              " 'the_good_earth.txt',\n",
              " 'the_yearling.txt',\n",
              " 'the_sheltered.txt']"
            ]
          },
          "metadata": {
            "tags": []
          },
          "execution_count": 44
        }
      ]
    },
    {
      "cell_type": "markdown",
      "metadata": {
        "id": "cTe1wK2KbEjZ",
        "colab_type": "text"
      },
      "source": [
        "### Sentiment Analysis using TextBlob for Co-Referenced Text"
      ]
    },
    {
      "cell_type": "code",
      "metadata": {
        "id": "QAg6SevN29hl",
        "colab_type": "code",
        "outputId": "daa40847-e6f6-4edd-84b1-69d7d6ad40c4",
        "colab": {
          "base_uri": "https://localhost:8080/",
          "height": 242
        }
      },
      "source": [
        "for file in dataset:\n",
        "        path = \"/content/drive/My Drive/Reference Resolved Content/\" + file\n",
        "        text=open(path)\n",
        "        text= text.read()\n",
        "        blob=TextBlob(text)\n",
        "        polarity = blob.sentiment.polarity \n",
        "        if -1 <= polarity < -0.5: \n",
        "          label = 'very bad' \n",
        "        elif -0.5 <= polarity < -0.1: \n",
        "          label = 'bad' \n",
        "        elif -0.1 <= polarity < 0.2: \n",
        "          label = 'ok' \n",
        "        elif 0.2 <= polarity < 0.6: \n",
        "          label = 'good' \n",
        "        elif 0.6 <= polarity <= 1: \n",
        "          label = 'positive' \n",
        "        #print(file,polarity,label)\n",
        "        print(\"Book:\"+\" \"+ file +\"\\t\"+\"Polarity\"+\" \"+str(polarity)+\"\\t\"+\"Sentiment:\"+\" \"+ label)"
      ],
      "execution_count": 0,
      "outputs": [
        {
          "output_type": "stream",
          "text": [
            "Book: action_at_aquila.txt\tPolarity 0.06976303037026085\tSentiment: ok\n",
            "Book: cimarron.txt\tPolarity 0.06680296193201675\tSentiment: ok\n",
            "Book: angel_pavement.txt\tPolarity 0.06849600292644087\tSentiment: ok\n",
            "Book: anthony_adverse.txt\tPolarity 0.09528459639935949\tSentiment: ok\n",
            "Book: dodsworth.txt\tPolarity 0.10285812305583295\tSentiment: ok\n",
            "Book: goodbye_mr_chips.txt\tPolarity 0.11956621265227486\tSentiment: ok\n",
            "Book: maid_in_waiting.txt\tPolarity 0.06975078453941015\tSentiment: ok\n",
            "Book: magnificent_obsession.txt\tPolarity 0.08074921287262972\tSentiment: ok\n",
            "Book: of_time_and_river.txt\tPolarity 0.06923673903158037\tSentiment: ok\n",
            "Book: rogue_herris.txt\tPolarity 0.08664344539360747\tSentiment: ok\n",
            "Book: the_good_earth.txt\tPolarity 0.07967293278634574\tSentiment: ok\n",
            "Book: the_yearling.txt\tPolarity 0.05625657389938018\tSentiment: ok\n",
            "Book: the_sheltered.txt\tPolarity 0.07997171433742059\tSentiment: ok\n"
          ],
          "name": "stdout"
        }
      ]
    },
    {
      "cell_type": "code",
      "metadata": {
        "id": "NE7JLhpeZz88",
        "colab_type": "code",
        "outputId": "2a816633-1e4b-4a17-9058-14ff810ef3f8",
        "colab": {
          "base_uri": "https://localhost:8080/",
          "height": 242
        }
      },
      "source": [
        "# for file in dataset:\n",
        "#         file = \"/content/drive/My Drive/Reference Resolved Content/\" + file\n",
        "#         text=open(file)\n",
        "#         text= text.read()\n",
        "#         blob=TextBlob(text)\n",
        "#         sentiment = blob.sentiment\n",
        "#         print(sentiment)"
      ],
      "execution_count": 0,
      "outputs": [
        {
          "output_type": "stream",
          "text": [
            "Sentiment(polarity=0.05625657389938018, subjectivity=0.47337797594585224)\n",
            "Sentiment(polarity=0.07967293278634574, subjectivity=0.46237898733400556)\n",
            "Sentiment(polarity=0.08664344539360747, subjectivity=0.4998928606242503)\n",
            "Sentiment(polarity=0.06923673903158037, subjectivity=0.5287977685230337)\n",
            "Sentiment(polarity=0.08074921287262972, subjectivity=0.48229464244937204)\n",
            "Sentiment(polarity=0.11956621265227486, subjectivity=0.48883419739649725)\n",
            "Sentiment(polarity=0.10285812305583295, subjectivity=0.5102150829236511)\n",
            "Sentiment(polarity=0.06680296193201675, subjectivity=0.4831525212155274)\n",
            "Sentiment(polarity=0.07997171433742059, subjectivity=0.4999691139631668)\n",
            "Sentiment(polarity=0.06975078453941015, subjectivity=0.4768662949943951)\n",
            "Sentiment(polarity=0.06976303037026085, subjectivity=0.4795350939919859)\n",
            "Sentiment(polarity=0.06849600292644087, subjectivity=0.49057279602950143)\n",
            "Sentiment(polarity=0.09528459639935949, subjectivity=0.4883324831239055)\n"
          ],
          "name": "stdout"
        }
      ]
    },
    {
      "cell_type": "markdown",
      "metadata": {
        "id": "-O_X8nr8bMNA",
        "colab_type": "text"
      },
      "source": [
        "### Sentiment Analysis using Vader for Co-Referenced Text"
      ]
    },
    {
      "cell_type": "code",
      "metadata": {
        "id": "YunGcemvb0SL",
        "colab_type": "code",
        "colab": {}
      },
      "source": [
        "analyser = SentimentIntensityAnalyzer()"
      ],
      "execution_count": 0,
      "outputs": []
    },
    {
      "cell_type": "code",
      "metadata": {
        "id": "CT6kNmNoZ_KX",
        "colab_type": "code",
        "outputId": "57420c66-93af-4816-f591-e0b469c5c41f",
        "colab": {
          "base_uri": "https://localhost:8080/",
          "height": 242
        }
      },
      "source": [
        "for file in dataset:\n",
        "        path = \"/content/drive/My Drive/Reference Resolved Content/\" + file\n",
        "        text=open(path)\n",
        "        text= text.read()\n",
        "        score = analyser.polarity_scores(text)\n",
        "        print(\"Book:\"+\" \"+file+\"\\t\"+\"Sentiment:\"+\" \"+str(score))"
      ],
      "execution_count": 0,
      "outputs": [
        {
          "output_type": "stream",
          "text": [
            "Book: action_at_aquila.txt\tSentiment: {'neg': 0.081, 'neu': 0.807, 'pos': 0.112, 'compound': 1.0}\n",
            "Book: cimarron.txt\tSentiment: {'neg': 0.082, 'neu': 0.815, 'pos': 0.102, 'compound': 0.9999}\n",
            "Book: angel_pavement.txt\tSentiment: {'neg': 0.083, 'neu': 0.808, 'pos': 0.11, 'compound': 1.0}\n",
            "Book: anthony_adverse.txt\tSentiment: {'neg': 0.065, 'neu': 0.81, 'pos': 0.125, 'compound': 1.0}\n",
            "Book: dodsworth.txt\tSentiment: {'neg': 0.075, 'neu': 0.778, 'pos': 0.147, 'compound': 1.0}\n",
            "Book: goodbye_mr_chips.txt\tSentiment: {'neg': 0.069, 'neu': 0.786, 'pos': 0.144, 'compound': 1.0}\n",
            "Book: maid_in_waiting.txt\tSentiment: {'neg': 0.081, 'neu': 0.8, 'pos': 0.119, 'compound': 1.0}\n",
            "Book: magnificent_obsession.txt\tSentiment: {'neg': 0.077, 'neu': 0.797, 'pos': 0.126, 'compound': 1.0}\n",
            "Book: of_time_and_river.txt\tSentiment: {'neg': 0.116, 'neu': 0.766, 'pos': 0.118, 'compound': 0.9999}\n",
            "Book: rogue_herris.txt\tSentiment: {'neg': 0.09, 'neu': 0.78, 'pos': 0.13, 'compound': 1.0}\n",
            "Book: the_good_earth.txt\tSentiment: {'neg': 0.092, 'neu': 0.783, 'pos': 0.125, 'compound': 1.0}\n",
            "Book: the_yearling.txt\tSentiment: {'neg': 0.08, 'neu': 0.837, 'pos': 0.083, 'compound': 0.9998}\n",
            "Book: the_sheltered.txt\tSentiment: {'neg': 0.097, 'neu': 0.761, 'pos': 0.141, 'compound': 1.0}\n"
          ],
          "name": "stdout"
        }
      ]
    },
    {
      "cell_type": "code",
      "metadata": {
        "id": "UbCepPQTs-5w",
        "colab_type": "code",
        "colab": {}
      },
      "source": [
        "# for file in dataset:\n",
        "#         file = \"/content/drive/My Drive/Reference Resolved Content/\" + file\n",
        "#         text=open(file)\n",
        "#         text= text.read()\n",
        "#         score = analyser.polarity_scores(text)\n",
        "#         print(score)"
      ],
      "execution_count": 0,
      "outputs": []
    },
    {
      "cell_type": "markdown",
      "metadata": {
        "id": "SD5BkSIb8WVw",
        "colab_type": "text"
      },
      "source": [
        "### Sentiment Analysis using TextBlob for entire book\n"
      ]
    },
    {
      "cell_type": "code",
      "metadata": {
        "id": "7oXNArsD8vIC",
        "colab_type": "code",
        "outputId": "ea42c369-e7a6-4600-c724-b75571418ba1",
        "colab": {
          "base_uri": "https://localhost:8080/",
          "height": 259
        }
      },
      "source": [
        "dataset = os.listdir(\"/content/drive/My Drive/Books during great depression\")\n",
        "dataset"
      ],
      "execution_count": 0,
      "outputs": [
        {
          "output_type": "execute_result",
          "data": {
            "text/plain": [
              "['Action at Aquila.txt',\n",
              " 'Goodbye Mr Chips.txt',\n",
              " 'Anthony Adverse.txt',\n",
              " 'Of Time and the River.txt',\n",
              " 'Rogue Herris.txt',\n",
              " 'Angel Pavement.txt',\n",
              " 'Cimarron.txt',\n",
              " 'Maid in Waiting.txt',\n",
              " 'The sheltered life.txt',\n",
              " 'Magnificent Obsession.txt',\n",
              " 'The yearling.txt',\n",
              " 'The Fountain.txt',\n",
              " 'Dodsworth.txt',\n",
              " 'The Good Earth.txt']"
            ]
          },
          "metadata": {
            "tags": []
          },
          "execution_count": 2
        }
      ]
    },
    {
      "cell_type": "code",
      "metadata": {
        "id": "GCAe0GrYGrDa",
        "colab_type": "code",
        "outputId": "ab0d252f-969b-4b06-e078-b5eeb33f2863",
        "colab": {
          "base_uri": "https://localhost:8080/",
          "height": 259
        }
      },
      "source": [
        "for file in dataset:\n",
        "        path = \"/content/drive/My Drive/Books during great depression/\" + file\n",
        "        text=open(path)\n",
        "        text= text.read()\n",
        "        blob=TextBlob(text)\n",
        "        polarity = blob.sentiment.polarity \n",
        "        if -1 <= polarity < -0.5: \n",
        "          label = 'very bad' \n",
        "        elif -0.5 <= polarity < -0.1: \n",
        "          label = 'bad' \n",
        "        elif -0.1 <= polarity < 0.2: \n",
        "          label = 'ok' \n",
        "        elif 0.2 <= polarity < 0.6: \n",
        "          label = 'good' \n",
        "        elif 0.6 <= polarity <= 1: \n",
        "          label = 'positive' \n",
        "        #print(file,polarity,label)\n",
        "        print(\"Book:\"+\" \"+ file +\"\\t\"+\"Polarity\"+\" \"+str(polarity)+\"\\t\"+\"Sentiment:\"+\" \"+ label)"
      ],
      "execution_count": 0,
      "outputs": [
        {
          "output_type": "stream",
          "text": [
            "Book: Action at Aquila.txt\tPolarity 0.05726481008530782\tSentiment: ok\n",
            "Book: Goodbye Mr Chips.txt\tPolarity 0.11088557297691859\tSentiment: ok\n",
            "Book: Anthony Adverse.txt\tPolarity 0.08912152085377616\tSentiment: ok\n",
            "Book: Of Time and the River.txt\tPolarity 0.07379352267983447\tSentiment: ok\n",
            "Book: Rogue Herris.txt\tPolarity 0.08970891272699685\tSentiment: ok\n",
            "Book: Angel Pavement.txt\tPolarity 0.056424587505870184\tSentiment: ok\n",
            "Book: Cimarron.txt\tPolarity 0.058942424105188476\tSentiment: ok\n",
            "Book: Maid in Waiting.txt\tPolarity 0.07391101433539157\tSentiment: ok\n",
            "Book: The sheltered life.txt\tPolarity 0.08828728463790358\tSentiment: ok\n",
            "Book: Magnificent Obsession.txt\tPolarity 0.0808357445989456\tSentiment: ok\n",
            "Book: The yearling.txt\tPolarity 0.061536243621387654\tSentiment: ok\n",
            "Book: The Fountain.txt\tPolarity 0.0691265826020704\tSentiment: ok\n",
            "Book: Dodsworth.txt\tPolarity 0.11154517806518122\tSentiment: ok\n",
            "Book: The Good Earth.txt\tPolarity 0.091705658720364\tSentiment: ok\n"
          ],
          "name": "stdout"
        }
      ]
    },
    {
      "cell_type": "code",
      "metadata": {
        "id": "esRPz3zx8V7k",
        "colab_type": "code",
        "outputId": "4fe9da90-5b61-4bce-94f3-d64e1e622218",
        "colab": {
          "base_uri": "https://localhost:8080/",
          "height": 259
        }
      },
      "source": [
        "# for file in dataset:\n",
        "#         file = \"/content/drive/My Drive/Books during great depression/\" + file\n",
        "#         text=open(file)\n",
        "#         text= text.read()\n",
        "#         blob=TextBlob(text)\n",
        "#         sentiment = blob.sentiment\n",
        "#         print(sentiment)"
      ],
      "execution_count": 0,
      "outputs": [
        {
          "output_type": "stream",
          "text": [
            "Sentiment(polarity=0.05726481008530782, subjectivity=0.47135471886781505)\n",
            "Sentiment(polarity=0.11088557297691859, subjectivity=0.47702006144313885)\n",
            "Sentiment(polarity=0.08912152085377616, subjectivity=0.48452272650998796)\n",
            "Sentiment(polarity=0.07379352267983447, subjectivity=0.5330469641295742)\n",
            "Sentiment(polarity=0.08970891272699685, subjectivity=0.5135942768004657)\n",
            "Sentiment(polarity=0.056424587505870184, subjectivity=0.5004389150596698)\n",
            "Sentiment(polarity=0.058942424105188476, subjectivity=0.4726861637474189)\n",
            "Sentiment(polarity=0.07391101433539157, subjectivity=0.47817843749566064)\n",
            "Sentiment(polarity=0.08828728463790358, subjectivity=0.4967703190125127)\n",
            "Sentiment(polarity=0.0808357445989456, subjectivity=0.4886094616758783)\n",
            "Sentiment(polarity=0.061536243621387654, subjectivity=0.472555441371491)\n",
            "Sentiment(polarity=0.0691265826020704, subjectivity=0.48681623785086814)\n",
            "Sentiment(polarity=0.11154517806518122, subjectivity=0.505156866825579)\n",
            "Sentiment(polarity=0.091705658720364, subjectivity=0.4463089035147877)\n"
          ],
          "name": "stdout"
        }
      ]
    },
    {
      "cell_type": "markdown",
      "metadata": {
        "id": "kbCE1lsB9Pv1",
        "colab_type": "text"
      },
      "source": [
        "### Sentiment Analysis using Vader for entire book\n"
      ]
    },
    {
      "cell_type": "code",
      "metadata": {
        "id": "N7iRU3oK9MPj",
        "colab_type": "code",
        "colab": {}
      },
      "source": [
        "analyser = SentimentIntensityAnalyzer()"
      ],
      "execution_count": 0,
      "outputs": []
    },
    {
      "cell_type": "code",
      "metadata": {
        "id": "q_PWQbon9Or5",
        "colab_type": "code",
        "outputId": "8d8f3598-f3db-4b6a-f12d-d6016bd7fe7f",
        "colab": {
          "base_uri": "https://localhost:8080/",
          "height": 69
        }
      },
      "source": [
        "for file in dataset:\n",
        "        path = \"/content/drive/My Drive/Books during great depression/\" + file\n",
        "        text=open(path)\n",
        "        text= text.read()\n",
        "        score = analyser.polarity_scores(text)\n",
        "        print(\"Book:\"+\" \"+file+\"\\t\"+\"Sentiment:\"+\" \"+str(score))"
      ],
      "execution_count": 0,
      "outputs": [
        {
          "output_type": "stream",
          "text": [
            "Book: Action at Aquila.txt\tSentiment: {'neg': 0.087, 'neu': 0.807, 'pos': 0.106, 'compound': 1.0}\n",
            "Book: Goodbye Mr Chips.txt\tSentiment: {'neg': 0.07, 'neu': 0.792, 'pos': 0.138, 'compound': 1.0}\n",
            "Book: Anthony Adverse.txt\tSentiment: {'neg': 0.067, 'neu': 0.811, 'pos': 0.122, 'compound': 1.0}\n"
          ],
          "name": "stdout"
        }
      ]
    },
    {
      "cell_type": "markdown",
      "metadata": {
        "id": "3kibWdhu-_xz",
        "colab_type": "text"
      },
      "source": [
        "### Sentiment Analysis using TextBlob for just Protagonist"
      ]
    },
    {
      "cell_type": "code",
      "metadata": {
        "id": "6cDkL6s5_QR6",
        "colab_type": "code",
        "outputId": "ad204509-f7b1-455c-d011-a78fac4dee70",
        "colab": {
          "base_uri": "https://localhost:8080/",
          "height": 259
        }
      },
      "source": [
        "dataset = os.listdir(\"/content/drive/My Drive/Filtered Protagonist\")\n",
        "dataset"
      ],
      "execution_count": 0,
      "outputs": [
        {
          "output_type": "execute_result",
          "data": {
            "text/plain": [
              "['Action at Aquila.txt',\n",
              " 'Anthony Adverse.txt',\n",
              " 'Cimarron.txt',\n",
              " 'Angel Pavement.txt',\n",
              " 'Dodsworth.txt',\n",
              " 'Rogue Herris.txt',\n",
              " 'Of Time and the River.txt',\n",
              " 'Magnificent Obsession.txt',\n",
              " 'Maid in Waiting.txt',\n",
              " 'Goodbye Mr Chips.txt',\n",
              " 'The Fountain.txt',\n",
              " 'The yearling.txt',\n",
              " 'The Good Earth.txt',\n",
              " 'The sheltered life.txt']"
            ]
          },
          "metadata": {
            "tags": []
          },
          "execution_count": 73
        }
      ]
    },
    {
      "cell_type": "code",
      "metadata": {
        "id": "pXU6WdFbHjzx",
        "colab_type": "code",
        "outputId": "36f6fe02-eaf4-4da2-a847-2c1f66220413",
        "colab": {
          "base_uri": "https://localhost:8080/",
          "height": 259
        }
      },
      "source": [
        "for file in dataset:\n",
        "        path = \"/content/drive/My Drive/Filtered Protagonist/\" + file\n",
        "        text=open(path)\n",
        "        text= text.read()\n",
        "        blob=TextBlob(text)\n",
        "        polarity = blob.sentiment.polarity \n",
        "        if -1 <= polarity < -0.5: \n",
        "          label = 'very bad' \n",
        "        elif -0.5 <= polarity < -0.1: \n",
        "          label = 'bad' \n",
        "        elif -0.1 <= polarity < 0.2: \n",
        "          label = 'ok' \n",
        "        elif 0.2 <= polarity < 0.6: \n",
        "          label = 'good' \n",
        "        elif 0.6 <= polarity <= 1: \n",
        "          label = 'positive' \n",
        "        #print(file,polarity,label)\n",
        "        print(\"Book:\"+\" \"+ file +\"\\t\"+\"Polarity\"+\" \"+str(polarity)+\"\\t\"+\"Sentiment:\"+\" \"+ label)"
      ],
      "execution_count": 0,
      "outputs": [
        {
          "output_type": "stream",
          "text": [
            "Book: Action at Aquila.txt\tPolarity 0.07248064777605229\tSentiment: ok\n",
            "Book: Anthony Adverse.txt\tPolarity 0.09312129514718476\tSentiment: ok\n",
            "Book: Cimarron.txt\tPolarity 0.018445646855841002\tSentiment: ok\n",
            "Book: Angel Pavement.txt\tPolarity 0.07634649714971502\tSentiment: ok\n",
            "Book: Dodsworth.txt\tPolarity 0.111920659390954\tSentiment: ok\n",
            "Book: Rogue Herris.txt\tPolarity 0.09283529642588972\tSentiment: ok\n",
            "Book: Of Time and the River.txt\tPolarity 0.05454563440599661\tSentiment: ok\n",
            "Book: Magnificent Obsession.txt\tPolarity 0.07768222417907585\tSentiment: ok\n",
            "Book: Maid in Waiting.txt\tPolarity 0.06631703104057703\tSentiment: ok\n",
            "Book: Goodbye Mr Chips.txt\tPolarity 0.12705456903584006\tSentiment: ok\n",
            "Book: The Fountain.txt\tPolarity 0.057714045214045266\tSentiment: ok\n",
            "Book: The yearling.txt\tPolarity 0.049937873346335794\tSentiment: ok\n",
            "Book: The Good Earth.txt\tPolarity 0.06607266972445511\tSentiment: ok\n",
            "Book: The sheltered life.txt\tPolarity 0.08787965700468595\tSentiment: ok\n"
          ],
          "name": "stdout"
        }
      ]
    },
    {
      "cell_type": "code",
      "metadata": {
        "id": "Z4v-13kE_ZAa",
        "colab_type": "code",
        "outputId": "2675d914-07ff-4698-de58-9ed95873d2a3",
        "colab": {
          "base_uri": "https://localhost:8080/",
          "height": 259
        }
      },
      "source": [
        "# for file in dataset:\n",
        "#         file = \"/content/drive/My Drive/Filtered Protagonist/\" + file\n",
        "#         text=open(file)\n",
        "#         text= text.read()\n",
        "#         blob=TextBlob(text)\n",
        "#         sentiment = blob.sentiment\n",
        "#         print(sentiment)"
      ],
      "execution_count": 0,
      "outputs": [
        {
          "output_type": "stream",
          "text": [
            "Sentiment(polarity=0.07634649714971502, subjectivity=0.5057477890646206)\n",
            "Sentiment(polarity=0.07248064777605229, subjectivity=0.4841990367356234)\n",
            "Sentiment(polarity=0.018445646855841002, subjectivity=0.4937935244367285)\n",
            "Sentiment(polarity=0.09312129514718476, subjectivity=0.48011690337805435)\n",
            "Sentiment(polarity=0.08787965700468595, subjectivity=0.4959808424009374)\n",
            "Sentiment(polarity=0.057714045214045266, subjectivity=0.49139556277056257)\n",
            "Sentiment(polarity=0.09283529642588972, subjectivity=0.5101648811812948)\n",
            "Sentiment(polarity=0.06631703104057703, subjectivity=0.4738513645166691)\n",
            "Sentiment(polarity=0.05454563440599661, subjectivity=0.5289569938706906)\n",
            "Sentiment(polarity=0.07768222417907585, subjectivity=0.4806253889865747)\n",
            "Sentiment(polarity=0.111920659390954, subjectivity=0.5254747980508432)\n",
            "Sentiment(polarity=0.12705456903584006, subjectivity=0.4874363456097444)\n",
            "Sentiment(polarity=0.049937873346335794, subjectivity=0.45519513781313137)\n",
            "Sentiment(polarity=0.06607266972445511, subjectivity=0.4643215831787272)\n"
          ],
          "name": "stdout"
        }
      ]
    },
    {
      "cell_type": "markdown",
      "metadata": {
        "id": "NeI6S1PR_EAb",
        "colab_type": "text"
      },
      "source": [
        "### Sentiment Analysis using Vader for just Protagonist"
      ]
    },
    {
      "cell_type": "code",
      "metadata": {
        "id": "6nFR_f1G9dMP",
        "colab_type": "code",
        "colab": {}
      },
      "source": [
        "analyser = SentimentIntensityAnalyzer()"
      ],
      "execution_count": 0,
      "outputs": []
    },
    {
      "cell_type": "code",
      "metadata": {
        "id": "6q7hgLsJ_hWH",
        "colab_type": "code",
        "outputId": "7d8f2407-0667-4edb-d7aa-5192d53324eb",
        "colab": {
          "base_uri": "https://localhost:8080/",
          "height": 259
        }
      },
      "source": [
        "for file in dataset:\n",
        "        path = \"/content/drive/My Drive/Filtered Protagonist/\" + file\n",
        "        text=open(path)\n",
        "        text= text.read()\n",
        "        score = analyser.polarity_scores(text)\n",
        "        print(\"Book:\"+\" \"+file+\"\\t\"+\"Sentiment:\"+\" \"+str(score))"
      ],
      "execution_count": 0,
      "outputs": [
        {
          "output_type": "stream",
          "text": [
            "Book: Action at Aquila.txt\tSentiment: {'neg': 0.08, 'neu': 0.807, 'pos': 0.113, 'compound': 1.0}\n",
            "Book: Anthony Adverse.txt\tSentiment: {'neg': 0.063, 'neu': 0.813, 'pos': 0.124, 'compound': 1.0}\n",
            "Book: Cimarron.txt\tSentiment: {'neg': 0.102, 'neu': 0.818, 'pos': 0.081, 'compound': -0.9992}\n",
            "Book: Angel Pavement.txt\tSentiment: {'neg': 0.079, 'neu': 0.833, 'pos': 0.088, 'compound': 0.999}\n",
            "Book: Dodsworth.txt\tSentiment: {'neg': 0.076, 'neu': 0.778, 'pos': 0.146, 'compound': 1.0}\n",
            "Book: Rogue Herris.txt\tSentiment: {'neg': 0.091, 'neu': 0.774, 'pos': 0.135, 'compound': 1.0}\n",
            "Book: Of Time and the River.txt\tSentiment: {'neg': 0.117, 'neu': 0.76, 'pos': 0.122, 'compound': 0.9999}\n",
            "Book: Magnificent Obsession.txt\tSentiment: {'neg': 0.079, 'neu': 0.795, 'pos': 0.126, 'compound': 1.0}\n",
            "Book: Maid in Waiting.txt\tSentiment: {'neg': 0.085, 'neu': 0.798, 'pos': 0.117, 'compound': 1.0}\n",
            "Book: Goodbye Mr Chips.txt\tSentiment: {'neg': 0.068, 'neu': 0.784, 'pos': 0.148, 'compound': 1.0}\n",
            "Book: The Fountain.txt\tSentiment: {'neg': 0.07, 'neu': 0.835, 'pos': 0.095, 'compound': 0.9997}\n",
            "Book: The yearling.txt\tSentiment: {'neg': 0.078, 'neu': 0.838, 'pos': 0.084, 'compound': 0.9994}\n",
            "Book: The Good Earth.txt\tSentiment: {'neg': 0.094, 'neu': 0.784, 'pos': 0.122, 'compound': 1.0}\n",
            "Book: The sheltered life.txt\tSentiment: {'neg': 0.092, 'neu': 0.767, 'pos': 0.141, 'compound': 1.0}\n"
          ],
          "name": "stdout"
        }
      ]
    },
    {
      "cell_type": "code",
      "metadata": {
        "id": "33QhrUfl99Hx",
        "colab_type": "code",
        "colab": {}
      },
      "source": [
        "# Textblob : -1 to 1\n",
        "# Stanford NLP : 0 to 4\n",
        "# Vader : -1 to 1"
      ],
      "execution_count": 0,
      "outputs": []
    },
    {
      "cell_type": "code",
      "metadata": {
        "id": "vKxlsDiRNtkx",
        "colab_type": "code",
        "colab": {}
      },
      "source": [
        ""
      ],
      "execution_count": 0,
      "outputs": []
    }
  ]
}