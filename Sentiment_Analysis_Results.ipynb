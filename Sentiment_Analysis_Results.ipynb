{
  "nbformat": 4,
  "nbformat_minor": 0,
  "metadata": {
    "colab": {
      "name": "Sentiment Analysis Results.ipynb",
      "provenance": [],
      "authorship_tag": "ABX9TyPJOzKiNchrjqMgWys/Vh7n"
    },
    "kernelspec": {
      "name": "python3",
      "display_name": "Python 3"
    }
  },
  "cells": [
    {
      "cell_type": "code",
      "metadata": {
        "id": "jSYWmuXPOANt",
        "colab_type": "code",
        "colab": {}
      },
      "source": [
        "import pandas as pd\n",
        "import seaborn as sns\n",
        "import matplotlib.pyplot as plt"
      ],
      "execution_count": 0,
      "outputs": []
    },
    {
      "cell_type": "code",
      "metadata": {
        "id": "1Ul3ETeXOCXQ",
        "colab_type": "code",
        "colab": {}
      },
      "source": [
        "data = {'Textblob':  [0.07248064777605229,0.09312129514718476,0.018445646855841002,0.07634649714971502,0.111920659390954,0.09283529642588972,0.05454563440599661,0.07768222417907585,0.06631703104057703,0.12705456903584006,0.057714045214045266,0.049937873346335794,0.06607266972445511,0.08787965700468595],\n",
        "        'Vader': [1.0,1.0,-0.9992,0.999,1.0,1.0,0.9999,1.0,1.0,1.0,0.9997,0.9997,1.0,1.0],\n",
        "         'StanfordNLP': [1.61098398169,1.76513761468,1.56102088167,1.92196878752,1.63092783505,1.66100685136,1.61816687217,1.64448336252,1.89368104313,1.8559602649,1.79826014913,1.92486444617,1.61015785861,1.56632653061]\n",
        "        }\n",
        "\n",
        "df = pd.DataFrame (data, columns = ['Textblob','Vader','StanfordNLP'])"
      ],
      "execution_count": 0,
      "outputs": []
    },
    {
      "cell_type": "code",
      "metadata": {
        "id": "JeeM4QRZf64I",
        "colab_type": "code",
        "outputId": "8a107628-0149-49db-f4da-2ce12f523996",
        "colab": {
          "base_uri": "https://localhost:8080/",
          "height": 468
        }
      },
      "source": [
        "df"
      ],
      "execution_count": 0,
      "outputs": [
        {
          "output_type": "execute_result",
          "data": {
            "text/html": [
              "<div>\n",
              "<style scoped>\n",
              "    .dataframe tbody tr th:only-of-type {\n",
              "        vertical-align: middle;\n",
              "    }\n",
              "\n",
              "    .dataframe tbody tr th {\n",
              "        vertical-align: top;\n",
              "    }\n",
              "\n",
              "    .dataframe thead th {\n",
              "        text-align: right;\n",
              "    }\n",
              "</style>\n",
              "<table border=\"1\" class=\"dataframe\">\n",
              "  <thead>\n",
              "    <tr style=\"text-align: right;\">\n",
              "      <th></th>\n",
              "      <th>Textblob</th>\n",
              "      <th>Vader</th>\n",
              "      <th>StanfordNLP</th>\n",
              "    </tr>\n",
              "  </thead>\n",
              "  <tbody>\n",
              "    <tr>\n",
              "      <th>0</th>\n",
              "      <td>0.072481</td>\n",
              "      <td>1.0000</td>\n",
              "      <td>1.610984</td>\n",
              "    </tr>\n",
              "    <tr>\n",
              "      <th>1</th>\n",
              "      <td>0.093121</td>\n",
              "      <td>1.0000</td>\n",
              "      <td>1.765138</td>\n",
              "    </tr>\n",
              "    <tr>\n",
              "      <th>2</th>\n",
              "      <td>0.018446</td>\n",
              "      <td>-0.9992</td>\n",
              "      <td>1.561021</td>\n",
              "    </tr>\n",
              "    <tr>\n",
              "      <th>3</th>\n",
              "      <td>0.076346</td>\n",
              "      <td>0.9990</td>\n",
              "      <td>1.921969</td>\n",
              "    </tr>\n",
              "    <tr>\n",
              "      <th>4</th>\n",
              "      <td>0.111921</td>\n",
              "      <td>1.0000</td>\n",
              "      <td>1.630928</td>\n",
              "    </tr>\n",
              "    <tr>\n",
              "      <th>5</th>\n",
              "      <td>0.092835</td>\n",
              "      <td>1.0000</td>\n",
              "      <td>1.661007</td>\n",
              "    </tr>\n",
              "    <tr>\n",
              "      <th>6</th>\n",
              "      <td>0.054546</td>\n",
              "      <td>0.9999</td>\n",
              "      <td>1.618167</td>\n",
              "    </tr>\n",
              "    <tr>\n",
              "      <th>7</th>\n",
              "      <td>0.077682</td>\n",
              "      <td>1.0000</td>\n",
              "      <td>1.644483</td>\n",
              "    </tr>\n",
              "    <tr>\n",
              "      <th>8</th>\n",
              "      <td>0.066317</td>\n",
              "      <td>1.0000</td>\n",
              "      <td>1.893681</td>\n",
              "    </tr>\n",
              "    <tr>\n",
              "      <th>9</th>\n",
              "      <td>0.127055</td>\n",
              "      <td>1.0000</td>\n",
              "      <td>1.855960</td>\n",
              "    </tr>\n",
              "    <tr>\n",
              "      <th>10</th>\n",
              "      <td>0.057714</td>\n",
              "      <td>0.9997</td>\n",
              "      <td>1.798260</td>\n",
              "    </tr>\n",
              "    <tr>\n",
              "      <th>11</th>\n",
              "      <td>0.049938</td>\n",
              "      <td>0.9997</td>\n",
              "      <td>1.924864</td>\n",
              "    </tr>\n",
              "    <tr>\n",
              "      <th>12</th>\n",
              "      <td>0.066073</td>\n",
              "      <td>1.0000</td>\n",
              "      <td>1.610158</td>\n",
              "    </tr>\n",
              "    <tr>\n",
              "      <th>13</th>\n",
              "      <td>0.087880</td>\n",
              "      <td>1.0000</td>\n",
              "      <td>1.566327</td>\n",
              "    </tr>\n",
              "  </tbody>\n",
              "</table>\n",
              "</div>"
            ],
            "text/plain": [
              "    Textblob   Vader  StanfordNLP\n",
              "0   0.072481  1.0000     1.610984\n",
              "1   0.093121  1.0000     1.765138\n",
              "2   0.018446 -0.9992     1.561021\n",
              "3   0.076346  0.9990     1.921969\n",
              "4   0.111921  1.0000     1.630928\n",
              "5   0.092835  1.0000     1.661007\n",
              "6   0.054546  0.9999     1.618167\n",
              "7   0.077682  1.0000     1.644483\n",
              "8   0.066317  1.0000     1.893681\n",
              "9   0.127055  1.0000     1.855960\n",
              "10  0.057714  0.9997     1.798260\n",
              "11  0.049938  0.9997     1.924864\n",
              "12  0.066073  1.0000     1.610158\n",
              "13  0.087880  1.0000     1.566327"
            ]
          },
          "metadata": {
            "tags": []
          },
          "execution_count": 29
        }
      ]
    },
    {
      "cell_type": "code",
      "metadata": {
        "id": "IxwFrQxFOJ5_",
        "colab_type": "code",
        "colab": {}
      },
      "source": [
        "df['StanfordNLP']=df['StanfordNLP']-2"
      ],
      "execution_count": 0,
      "outputs": []
    },
    {
      "cell_type": "code",
      "metadata": {
        "id": "M4RQoSCUcRjA",
        "colab_type": "code",
        "colab": {}
      },
      "source": [
        "df['StanfordNLP']=df['StanfordNLP']/2"
      ],
      "execution_count": 0,
      "outputs": []
    },
    {
      "cell_type": "code",
      "metadata": {
        "id": "KzhYDPZ9hkcd",
        "colab_type": "code",
        "outputId": "7df537d2-def8-4c71-dce5-b5c3f0eb43dd",
        "colab": {
          "base_uri": "https://localhost:8080/",
          "height": 468
        }
      },
      "source": [
        "df"
      ],
      "execution_count": 0,
      "outputs": [
        {
          "output_type": "execute_result",
          "data": {
            "text/html": [
              "<div>\n",
              "<style scoped>\n",
              "    .dataframe tbody tr th:only-of-type {\n",
              "        vertical-align: middle;\n",
              "    }\n",
              "\n",
              "    .dataframe tbody tr th {\n",
              "        vertical-align: top;\n",
              "    }\n",
              "\n",
              "    .dataframe thead th {\n",
              "        text-align: right;\n",
              "    }\n",
              "</style>\n",
              "<table border=\"1\" class=\"dataframe\">\n",
              "  <thead>\n",
              "    <tr style=\"text-align: right;\">\n",
              "      <th></th>\n",
              "      <th>Textblob</th>\n",
              "      <th>Vader</th>\n",
              "      <th>StanfordNLP</th>\n",
              "    </tr>\n",
              "  </thead>\n",
              "  <tbody>\n",
              "    <tr>\n",
              "      <th>0</th>\n",
              "      <td>0.072481</td>\n",
              "      <td>1.0000</td>\n",
              "      <td>-0.194508</td>\n",
              "    </tr>\n",
              "    <tr>\n",
              "      <th>1</th>\n",
              "      <td>0.093121</td>\n",
              "      <td>1.0000</td>\n",
              "      <td>-0.117431</td>\n",
              "    </tr>\n",
              "    <tr>\n",
              "      <th>2</th>\n",
              "      <td>0.018446</td>\n",
              "      <td>-0.9992</td>\n",
              "      <td>-0.219490</td>\n",
              "    </tr>\n",
              "    <tr>\n",
              "      <th>3</th>\n",
              "      <td>0.076346</td>\n",
              "      <td>0.9990</td>\n",
              "      <td>-0.039016</td>\n",
              "    </tr>\n",
              "    <tr>\n",
              "      <th>4</th>\n",
              "      <td>0.111921</td>\n",
              "      <td>1.0000</td>\n",
              "      <td>-0.184536</td>\n",
              "    </tr>\n",
              "    <tr>\n",
              "      <th>5</th>\n",
              "      <td>0.092835</td>\n",
              "      <td>1.0000</td>\n",
              "      <td>-0.169497</td>\n",
              "    </tr>\n",
              "    <tr>\n",
              "      <th>6</th>\n",
              "      <td>0.054546</td>\n",
              "      <td>0.9999</td>\n",
              "      <td>-0.190917</td>\n",
              "    </tr>\n",
              "    <tr>\n",
              "      <th>7</th>\n",
              "      <td>0.077682</td>\n",
              "      <td>1.0000</td>\n",
              "      <td>-0.177758</td>\n",
              "    </tr>\n",
              "    <tr>\n",
              "      <th>8</th>\n",
              "      <td>0.066317</td>\n",
              "      <td>1.0000</td>\n",
              "      <td>-0.053159</td>\n",
              "    </tr>\n",
              "    <tr>\n",
              "      <th>9</th>\n",
              "      <td>0.127055</td>\n",
              "      <td>1.0000</td>\n",
              "      <td>-0.072020</td>\n",
              "    </tr>\n",
              "    <tr>\n",
              "      <th>10</th>\n",
              "      <td>0.057714</td>\n",
              "      <td>0.9997</td>\n",
              "      <td>-0.100870</td>\n",
              "    </tr>\n",
              "    <tr>\n",
              "      <th>11</th>\n",
              "      <td>0.049938</td>\n",
              "      <td>0.9997</td>\n",
              "      <td>-0.037568</td>\n",
              "    </tr>\n",
              "    <tr>\n",
              "      <th>12</th>\n",
              "      <td>0.066073</td>\n",
              "      <td>1.0000</td>\n",
              "      <td>-0.194921</td>\n",
              "    </tr>\n",
              "    <tr>\n",
              "      <th>13</th>\n",
              "      <td>0.087880</td>\n",
              "      <td>1.0000</td>\n",
              "      <td>-0.216837</td>\n",
              "    </tr>\n",
              "  </tbody>\n",
              "</table>\n",
              "</div>"
            ],
            "text/plain": [
              "    Textblob   Vader  StanfordNLP\n",
              "0   0.072481  1.0000    -0.194508\n",
              "1   0.093121  1.0000    -0.117431\n",
              "2   0.018446 -0.9992    -0.219490\n",
              "3   0.076346  0.9990    -0.039016\n",
              "4   0.111921  1.0000    -0.184536\n",
              "5   0.092835  1.0000    -0.169497\n",
              "6   0.054546  0.9999    -0.190917\n",
              "7   0.077682  1.0000    -0.177758\n",
              "8   0.066317  1.0000    -0.053159\n",
              "9   0.127055  1.0000    -0.072020\n",
              "10  0.057714  0.9997    -0.100870\n",
              "11  0.049938  0.9997    -0.037568\n",
              "12  0.066073  1.0000    -0.194921\n",
              "13  0.087880  1.0000    -0.216837"
            ]
          },
          "metadata": {
            "tags": []
          },
          "execution_count": 32
        }
      ]
    },
    {
      "cell_type": "code",
      "metadata": {
        "id": "RAVvvPo8inkW",
        "colab_type": "code",
        "colab": {}
      },
      "source": [
        "# import numpy as np\n",
        "\n",
        "# def NormalizeData(data):\n",
        "#     return (data - np.min(data)) / (np.max(data) - np.min(data))"
      ],
      "execution_count": 0,
      "outputs": []
    },
    {
      "cell_type": "code",
      "metadata": {
        "id": "h8yuQ9Xliok-",
        "colab_type": "code",
        "colab": {}
      },
      "source": [
        "# df=NormalizeData(df)"
      ],
      "execution_count": 0,
      "outputs": []
    },
    {
      "cell_type": "code",
      "metadata": {
        "id": "bSbt9s0lSKgP",
        "colab_type": "code",
        "colab": {}
      },
      "source": [
        "books=['Action at Aquila.txt',\n",
        " 'Anthony Adverse.txt',\n",
        " 'Cimarron.txt',\n",
        " 'Angel Pavement.txt',\n",
        " 'Dodsworth.txt',\n",
        " 'Rogue Herris.txt',\n",
        " 'Of Time and the River.txt',\n",
        " 'Magnificent Obsession.txt',\n",
        " 'Maid in Waiting.txt',\n",
        " 'Goodbye Mr Chips.txt',\n",
        " 'The Fountain.txt',\n",
        " 'The yearling.txt',\n",
        " 'The Good Earth.txt',\n",
        " 'The sheltered life.txt']"
      ],
      "execution_count": 0,
      "outputs": []
    },
    {
      "cell_type": "code",
      "metadata": {
        "id": "NgKF1VTQR7vE",
        "colab_type": "code",
        "colab": {}
      },
      "source": [
        "df['Books']=books"
      ],
      "execution_count": 0,
      "outputs": []
    },
    {
      "cell_type": "code",
      "metadata": {
        "id": "PzcGnQZVSSeK",
        "colab_type": "code",
        "outputId": "3139af54-8668-4508-c895-7363a71aa0e1",
        "colab": {
          "base_uri": "https://localhost:8080/",
          "height": 468
        }
      },
      "source": [
        "df"
      ],
      "execution_count": 0,
      "outputs": [
        {
          "output_type": "execute_result",
          "data": {
            "text/html": [
              "<div>\n",
              "<style scoped>\n",
              "    .dataframe tbody tr th:only-of-type {\n",
              "        vertical-align: middle;\n",
              "    }\n",
              "\n",
              "    .dataframe tbody tr th {\n",
              "        vertical-align: top;\n",
              "    }\n",
              "\n",
              "    .dataframe thead th {\n",
              "        text-align: right;\n",
              "    }\n",
              "</style>\n",
              "<table border=\"1\" class=\"dataframe\">\n",
              "  <thead>\n",
              "    <tr style=\"text-align: right;\">\n",
              "      <th></th>\n",
              "      <th>Textblob</th>\n",
              "      <th>Vader</th>\n",
              "      <th>StanfordNLP</th>\n",
              "      <th>Books</th>\n",
              "    </tr>\n",
              "  </thead>\n",
              "  <tbody>\n",
              "    <tr>\n",
              "      <th>0</th>\n",
              "      <td>0.072481</td>\n",
              "      <td>1.0000</td>\n",
              "      <td>-0.194508</td>\n",
              "      <td>Action at Aquila.txt</td>\n",
              "    </tr>\n",
              "    <tr>\n",
              "      <th>1</th>\n",
              "      <td>0.093121</td>\n",
              "      <td>1.0000</td>\n",
              "      <td>-0.117431</td>\n",
              "      <td>Anthony Adverse.txt</td>\n",
              "    </tr>\n",
              "    <tr>\n",
              "      <th>2</th>\n",
              "      <td>0.018446</td>\n",
              "      <td>-0.9992</td>\n",
              "      <td>-0.219490</td>\n",
              "      <td>Cimarron.txt</td>\n",
              "    </tr>\n",
              "    <tr>\n",
              "      <th>3</th>\n",
              "      <td>0.076346</td>\n",
              "      <td>0.9990</td>\n",
              "      <td>-0.039016</td>\n",
              "      <td>Angel Pavement.txt</td>\n",
              "    </tr>\n",
              "    <tr>\n",
              "      <th>4</th>\n",
              "      <td>0.111921</td>\n",
              "      <td>1.0000</td>\n",
              "      <td>-0.184536</td>\n",
              "      <td>Dodsworth.txt</td>\n",
              "    </tr>\n",
              "    <tr>\n",
              "      <th>5</th>\n",
              "      <td>0.092835</td>\n",
              "      <td>1.0000</td>\n",
              "      <td>-0.169497</td>\n",
              "      <td>Rogue Herris.txt</td>\n",
              "    </tr>\n",
              "    <tr>\n",
              "      <th>6</th>\n",
              "      <td>0.054546</td>\n",
              "      <td>0.9999</td>\n",
              "      <td>-0.190917</td>\n",
              "      <td>Of Time and the River.txt</td>\n",
              "    </tr>\n",
              "    <tr>\n",
              "      <th>7</th>\n",
              "      <td>0.077682</td>\n",
              "      <td>1.0000</td>\n",
              "      <td>-0.177758</td>\n",
              "      <td>Magnificent Obsession.txt</td>\n",
              "    </tr>\n",
              "    <tr>\n",
              "      <th>8</th>\n",
              "      <td>0.066317</td>\n",
              "      <td>1.0000</td>\n",
              "      <td>-0.053159</td>\n",
              "      <td>Maid in Waiting.txt</td>\n",
              "    </tr>\n",
              "    <tr>\n",
              "      <th>9</th>\n",
              "      <td>0.127055</td>\n",
              "      <td>1.0000</td>\n",
              "      <td>-0.072020</td>\n",
              "      <td>Goodbye Mr Chips.txt</td>\n",
              "    </tr>\n",
              "    <tr>\n",
              "      <th>10</th>\n",
              "      <td>0.057714</td>\n",
              "      <td>0.9997</td>\n",
              "      <td>-0.100870</td>\n",
              "      <td>The Fountain.txt</td>\n",
              "    </tr>\n",
              "    <tr>\n",
              "      <th>11</th>\n",
              "      <td>0.049938</td>\n",
              "      <td>0.9997</td>\n",
              "      <td>-0.037568</td>\n",
              "      <td>The yearling.txt</td>\n",
              "    </tr>\n",
              "    <tr>\n",
              "      <th>12</th>\n",
              "      <td>0.066073</td>\n",
              "      <td>1.0000</td>\n",
              "      <td>-0.194921</td>\n",
              "      <td>The Good Earth.txt</td>\n",
              "    </tr>\n",
              "    <tr>\n",
              "      <th>13</th>\n",
              "      <td>0.087880</td>\n",
              "      <td>1.0000</td>\n",
              "      <td>-0.216837</td>\n",
              "      <td>The sheltered life.txt</td>\n",
              "    </tr>\n",
              "  </tbody>\n",
              "</table>\n",
              "</div>"
            ],
            "text/plain": [
              "    Textblob   Vader  StanfordNLP                      Books\n",
              "0   0.072481  1.0000    -0.194508       Action at Aquila.txt\n",
              "1   0.093121  1.0000    -0.117431        Anthony Adverse.txt\n",
              "2   0.018446 -0.9992    -0.219490               Cimarron.txt\n",
              "3   0.076346  0.9990    -0.039016         Angel Pavement.txt\n",
              "4   0.111921  1.0000    -0.184536              Dodsworth.txt\n",
              "5   0.092835  1.0000    -0.169497           Rogue Herris.txt\n",
              "6   0.054546  0.9999    -0.190917  Of Time and the River.txt\n",
              "7   0.077682  1.0000    -0.177758  Magnificent Obsession.txt\n",
              "8   0.066317  1.0000    -0.053159        Maid in Waiting.txt\n",
              "9   0.127055  1.0000    -0.072020       Goodbye Mr Chips.txt\n",
              "10  0.057714  0.9997    -0.100870           The Fountain.txt\n",
              "11  0.049938  0.9997    -0.037568           The yearling.txt\n",
              "12  0.066073  1.0000    -0.194921         The Good Earth.txt\n",
              "13  0.087880  1.0000    -0.216837     The sheltered life.txt"
            ]
          },
          "metadata": {
            "tags": []
          },
          "execution_count": 35
        }
      ]
    },
    {
      "cell_type": "code",
      "metadata": {
        "id": "GcAXbJmxSalj",
        "colab_type": "code",
        "outputId": "d8aab7d8-cf37-40fa-f928-7f0ea44f1c11",
        "colab": {
          "base_uri": "https://localhost:8080/",
          "height": 705
        }
      },
      "source": [
        "df.plot(x=\"Books\",kind='bar',color=['aqua', 'teal', 'darkslategray'],figsize=(10,10)) \n",
        "plt.xticks(rotation =45, horizontalalignment='right') \n",
        "#plt.yticks(ticks=[0.0,0.2,0.4,0.6,0.8,1.0],labels=['Very Negative','Negative','Neutral','Positive','Very Positive','xyz'])\n",
        "#plt.title(\"Comparison of Sentiment Analysis between Textblob,Vader and StanfordNLP for just Protagonist\", fontsize=15)\n",
        "plt.legend(loc=(1.04,0))\n",
        "plt.xlabel(\"Books\", labelpad=15)\n",
        "plt.ylabel(\"Polarity\", labelpad=15);"
      ],
      "execution_count": 0,
      "outputs": [
        {
          "output_type": "display_data",
          "data": {
            "image/png": "[encoded data removed]",
            "text/plain": [
              "<Figure size 720x720 with 1 Axes>"
            ]
          },
          "metadata": {
            "tags": [],
            "needs_background": "light"
          }
        }
      ]
    },
    {
      "cell_type": "code",
      "metadata": {
        "id": "aK95zAtqEUvz",
        "colab_type": "code",
        "colab": {}
      },
      "source": [
        "data = {'Textblob':  [0.06976303037026085,0.06680296193201675,0.06849600292644087,0.09528459639935949,0.10285812305583295,0.11956621265227486,0.06975078453941015,0.08074921287262972,0.06923673903158037,0.08664344539360747,0.067714045214045266,0.07967293278634574,0.05625657389938018,0.07997171433742059],\n",
        "        'Vader': [1.0,0.9999,1.0,1.0,1.0,1.0,1.0,1.0,0.9999,1.0,1.0,1.0,0.9998,1.0],\n",
        "         'StanfordNLP': [1.5731292517,1.5629984051,1.63716814159,1.8364921781,1.77893950709,1.66032350143,1.86312964492,1.86318972033,1.68701719412,1.61325966851,1.89826014913,1.9330557335,1.63265306122,1.60866318148]\n",
        "        }\n",
        "df = pd.DataFrame (data, columns = ['Textblob','Vader','StanfordNLP'])"
      ],
      "execution_count": 0,
      "outputs": []
    },
    {
      "cell_type": "code",
      "metadata": {
        "id": "SiZworGhMKSt",
        "colab_type": "code",
        "outputId": "b2e2c7fd-f0d2-45c9-b250-46411ce056ad",
        "colab": {
          "base_uri": "https://localhost:8080/",
          "height": 468
        }
      },
      "source": [
        "df"
      ],
      "execution_count": 0,
      "outputs": [
        {
          "output_type": "execute_result",
          "data": {
            "text/html": [
              "<div>\n",
              "<style scoped>\n",
              "    .dataframe tbody tr th:only-of-type {\n",
              "        vertical-align: middle;\n",
              "    }\n",
              "\n",
              "    .dataframe tbody tr th {\n",
              "        vertical-align: top;\n",
              "    }\n",
              "\n",
              "    .dataframe thead th {\n",
              "        text-align: right;\n",
              "    }\n",
              "</style>\n",
              "<table border=\"1\" class=\"dataframe\">\n",
              "  <thead>\n",
              "    <tr style=\"text-align: right;\">\n",
              "      <th></th>\n",
              "      <th>Textblob</th>\n",
              "      <th>Vader</th>\n",
              "      <th>StanfordNLP</th>\n",
              "    </tr>\n",
              "  </thead>\n",
              "  <tbody>\n",
              "    <tr>\n",
              "      <th>0</th>\n",
              "      <td>0.069763</td>\n",
              "      <td>1.0000</td>\n",
              "      <td>1.573129</td>\n",
              "    </tr>\n",
              "    <tr>\n",
              "      <th>1</th>\n",
              "      <td>0.066803</td>\n",
              "      <td>0.9999</td>\n",
              "      <td>1.562998</td>\n",
              "    </tr>\n",
              "    <tr>\n",
              "      <th>2</th>\n",
              "      <td>0.068496</td>\n",
              "      <td>1.0000</td>\n",
              "      <td>1.637168</td>\n",
              "    </tr>\n",
              "    <tr>\n",
              "      <th>3</th>\n",
              "      <td>0.095285</td>\n",
              "      <td>1.0000</td>\n",
              "      <td>1.836492</td>\n",
              "    </tr>\n",
              "    <tr>\n",
              "      <th>4</th>\n",
              "      <td>0.102858</td>\n",
              "      <td>1.0000</td>\n",
              "      <td>1.778940</td>\n",
              "    </tr>\n",
              "    <tr>\n",
              "      <th>5</th>\n",
              "      <td>0.119566</td>\n",
              "      <td>1.0000</td>\n",
              "      <td>1.660324</td>\n",
              "    </tr>\n",
              "    <tr>\n",
              "      <th>6</th>\n",
              "      <td>0.069751</td>\n",
              "      <td>1.0000</td>\n",
              "      <td>1.863130</td>\n",
              "    </tr>\n",
              "    <tr>\n",
              "      <th>7</th>\n",
              "      <td>0.080749</td>\n",
              "      <td>1.0000</td>\n",
              "      <td>1.863190</td>\n",
              "    </tr>\n",
              "    <tr>\n",
              "      <th>8</th>\n",
              "      <td>0.069237</td>\n",
              "      <td>0.9999</td>\n",
              "      <td>1.687017</td>\n",
              "    </tr>\n",
              "    <tr>\n",
              "      <th>9</th>\n",
              "      <td>0.086643</td>\n",
              "      <td>1.0000</td>\n",
              "      <td>1.613260</td>\n",
              "    </tr>\n",
              "    <tr>\n",
              "      <th>10</th>\n",
              "      <td>0.067714</td>\n",
              "      <td>1.0000</td>\n",
              "      <td>1.898260</td>\n",
              "    </tr>\n",
              "    <tr>\n",
              "      <th>11</th>\n",
              "      <td>0.079673</td>\n",
              "      <td>1.0000</td>\n",
              "      <td>1.933056</td>\n",
              "    </tr>\n",
              "    <tr>\n",
              "      <th>12</th>\n",
              "      <td>0.056257</td>\n",
              "      <td>0.9998</td>\n",
              "      <td>1.632653</td>\n",
              "    </tr>\n",
              "    <tr>\n",
              "      <th>13</th>\n",
              "      <td>0.079972</td>\n",
              "      <td>1.0000</td>\n",
              "      <td>1.608663</td>\n",
              "    </tr>\n",
              "  </tbody>\n",
              "</table>\n",
              "</div>"
            ],
            "text/plain": [
              "    Textblob   Vader  StanfordNLP\n",
              "0   0.069763  1.0000     1.573129\n",
              "1   0.066803  0.9999     1.562998\n",
              "2   0.068496  1.0000     1.637168\n",
              "3   0.095285  1.0000     1.836492\n",
              "4   0.102858  1.0000     1.778940\n",
              "5   0.119566  1.0000     1.660324\n",
              "6   0.069751  1.0000     1.863130\n",
              "7   0.080749  1.0000     1.863190\n",
              "8   0.069237  0.9999     1.687017\n",
              "9   0.086643  1.0000     1.613260\n",
              "10  0.067714  1.0000     1.898260\n",
              "11  0.079673  1.0000     1.933056\n",
              "12  0.056257  0.9998     1.632653\n",
              "13  0.079972  1.0000     1.608663"
            ]
          },
          "metadata": {
            "tags": []
          },
          "execution_count": 41
        }
      ]
    },
    {
      "cell_type": "code",
      "metadata": {
        "id": "UIFWuyXKLxFT",
        "colab_type": "code",
        "colab": {}
      },
      "source": [
        "#df=NormalizeData(df)"
      ],
      "execution_count": 0,
      "outputs": []
    },
    {
      "cell_type": "code",
      "metadata": {
        "id": "znpOEHTQEkFO",
        "colab_type": "code",
        "colab": {}
      },
      "source": [
        "df['StanfordNLP']=df['StanfordNLP']-2"
      ],
      "execution_count": 0,
      "outputs": []
    },
    {
      "cell_type": "code",
      "metadata": {
        "id": "Okb2UQmTEkcb",
        "colab_type": "code",
        "colab": {}
      },
      "source": [
        "df['StanfordNLP']=df['StanfordNLP']/2"
      ],
      "execution_count": 0,
      "outputs": []
    },
    {
      "cell_type": "code",
      "metadata": {
        "id": "bh9qC2YHMNbI",
        "colab_type": "code",
        "outputId": "ead8391a-9eef-493a-918f-0cdd80a9bb59",
        "colab": {
          "base_uri": "https://localhost:8080/",
          "height": 468
        }
      },
      "source": [
        "df"
      ],
      "execution_count": 0,
      "outputs": [
        {
          "output_type": "execute_result",
          "data": {
            "text/html": [
              "<div>\n",
              "<style scoped>\n",
              "    .dataframe tbody tr th:only-of-type {\n",
              "        vertical-align: middle;\n",
              "    }\n",
              "\n",
              "    .dataframe tbody tr th {\n",
              "        vertical-align: top;\n",
              "    }\n",
              "\n",
              "    .dataframe thead th {\n",
              "        text-align: right;\n",
              "    }\n",
              "</style>\n",
              "<table border=\"1\" class=\"dataframe\">\n",
              "  <thead>\n",
              "    <tr style=\"text-align: right;\">\n",
              "      <th></th>\n",
              "      <th>Textblob</th>\n",
              "      <th>Vader</th>\n",
              "      <th>StanfordNLP</th>\n",
              "    </tr>\n",
              "  </thead>\n",
              "  <tbody>\n",
              "    <tr>\n",
              "      <th>0</th>\n",
              "      <td>0.069763</td>\n",
              "      <td>1.0000</td>\n",
              "      <td>-0.213435</td>\n",
              "    </tr>\n",
              "    <tr>\n",
              "      <th>1</th>\n",
              "      <td>0.066803</td>\n",
              "      <td>0.9999</td>\n",
              "      <td>-0.218501</td>\n",
              "    </tr>\n",
              "    <tr>\n",
              "      <th>2</th>\n",
              "      <td>0.068496</td>\n",
              "      <td>1.0000</td>\n",
              "      <td>-0.181416</td>\n",
              "    </tr>\n",
              "    <tr>\n",
              "      <th>3</th>\n",
              "      <td>0.095285</td>\n",
              "      <td>1.0000</td>\n",
              "      <td>-0.081754</td>\n",
              "    </tr>\n",
              "    <tr>\n",
              "      <th>4</th>\n",
              "      <td>0.102858</td>\n",
              "      <td>1.0000</td>\n",
              "      <td>-0.110530</td>\n",
              "    </tr>\n",
              "    <tr>\n",
              "      <th>5</th>\n",
              "      <td>0.119566</td>\n",
              "      <td>1.0000</td>\n",
              "      <td>-0.169838</td>\n",
              "    </tr>\n",
              "    <tr>\n",
              "      <th>6</th>\n",
              "      <td>0.069751</td>\n",
              "      <td>1.0000</td>\n",
              "      <td>-0.068435</td>\n",
              "    </tr>\n",
              "    <tr>\n",
              "      <th>7</th>\n",
              "      <td>0.080749</td>\n",
              "      <td>1.0000</td>\n",
              "      <td>-0.068405</td>\n",
              "    </tr>\n",
              "    <tr>\n",
              "      <th>8</th>\n",
              "      <td>0.069237</td>\n",
              "      <td>0.9999</td>\n",
              "      <td>-0.156491</td>\n",
              "    </tr>\n",
              "    <tr>\n",
              "      <th>9</th>\n",
              "      <td>0.086643</td>\n",
              "      <td>1.0000</td>\n",
              "      <td>-0.193370</td>\n",
              "    </tr>\n",
              "    <tr>\n",
              "      <th>10</th>\n",
              "      <td>0.067714</td>\n",
              "      <td>1.0000</td>\n",
              "      <td>-0.050870</td>\n",
              "    </tr>\n",
              "    <tr>\n",
              "      <th>11</th>\n",
              "      <td>0.079673</td>\n",
              "      <td>1.0000</td>\n",
              "      <td>-0.033472</td>\n",
              "    </tr>\n",
              "    <tr>\n",
              "      <th>12</th>\n",
              "      <td>0.056257</td>\n",
              "      <td>0.9998</td>\n",
              "      <td>-0.183673</td>\n",
              "    </tr>\n",
              "    <tr>\n",
              "      <th>13</th>\n",
              "      <td>0.079972</td>\n",
              "      <td>1.0000</td>\n",
              "      <td>-0.195668</td>\n",
              "    </tr>\n",
              "  </tbody>\n",
              "</table>\n",
              "</div>"
            ],
            "text/plain": [
              "    Textblob   Vader  StanfordNLP\n",
              "0   0.069763  1.0000    -0.213435\n",
              "1   0.066803  0.9999    -0.218501\n",
              "2   0.068496  1.0000    -0.181416\n",
              "3   0.095285  1.0000    -0.081754\n",
              "4   0.102858  1.0000    -0.110530\n",
              "5   0.119566  1.0000    -0.169838\n",
              "6   0.069751  1.0000    -0.068435\n",
              "7   0.080749  1.0000    -0.068405\n",
              "8   0.069237  0.9999    -0.156491\n",
              "9   0.086643  1.0000    -0.193370\n",
              "10  0.067714  1.0000    -0.050870\n",
              "11  0.079673  1.0000    -0.033472\n",
              "12  0.056257  0.9998    -0.183673\n",
              "13  0.079972  1.0000    -0.195668"
            ]
          },
          "metadata": {
            "tags": []
          },
          "execution_count": 44
        }
      ]
    },
    {
      "cell_type": "code",
      "metadata": {
        "id": "mdOArydeM9D-",
        "colab_type": "code",
        "colab": {}
      },
      "source": [
        "books1=['action_at_aquila.txt',\n",
        " 'cimarron.txt',\n",
        " 'angel_pavement.txt',\n",
        " 'anthony_adverse.txt',\n",
        " 'dodsworth.txt',\n",
        " 'goodbye_mr_chips.txt',\n",
        " 'maid_in_waiting.txt',\n",
        " 'magnificent_obsession.txt',\n",
        " 'of_time_and_river.txt',\n",
        " 'rogue_herris.txt',\n",
        " 'The Fountain.txt',\n",
        " 'the_good_earth.txt',\n",
        " 'the_yearling.txt',\n",
        " 'the_sheltered.txt']"
      ],
      "execution_count": 0,
      "outputs": []
    },
    {
      "cell_type": "code",
      "metadata": {
        "id": "HZ9SYBR9L3ze",
        "colab_type": "code",
        "colab": {}
      },
      "source": [
        "df['Books']=books1"
      ],
      "execution_count": 0,
      "outputs": []
    },
    {
      "cell_type": "code",
      "metadata": {
        "id": "4ucsCtNeL7t8",
        "colab_type": "code",
        "outputId": "beb93a0a-f930-4234-fa4d-ddb79610677a",
        "colab": {
          "base_uri": "https://localhost:8080/",
          "height": 707
        }
      },
      "source": [
        "df.plot(x=\"Books\",kind='bar',color=['aqua', 'teal', 'darkslategray'],figsize=(10,10)) \n",
        "plt.xticks(rotation =45, horizontalalignment='right') \n",
        "#plt.yticks(ticks=[0.0,0.2,0.4,0.6,0.8,1.0],labels=['Very Negative','Negative','Neutral','Positive','Very Positive','xyz'])\n",
        "#plt.title(\"Comparison of Sentiment Analysis between Textblob,Vader and StanfordNLP for Co-Referenced text\", fontsize=15)\n",
        "plt.legend(loc=(1.04,0))\n",
        "plt.xlabel(\"Books\", labelpad=15)\n",
        "plt.ylabel(\"Polarity\", labelpad=15);"
      ],
      "execution_count": 0,
      "outputs": [
        {
          "output_type": "display_data",
          "data": {
            "image/png": "[encoded data removed]",
            "text/plain": [
              "<Figure size 720x720 with 1 Axes>"
            ]
          },
          "metadata": {
            "tags": [],
            "needs_background": "light"
          }
        }
      ]
    },
    {
      "cell_type": "code",
      "metadata": {
        "id": "g1OKl-9-c76O",
        "colab_type": "code",
        "colab": {}
      },
      "source": [
        "data = {'Textblob':  [0.05726481008530782,0.11088557297691859,0.08912152085377616,0.07379352267983447,0.08970891272699685,0.056424587505870184,0.058942424105188476,0.07391101433539157,0.08828728463790358,0.0808357445989456,0.061536243621387654,0.0691265826020704,0.11154517806518122,0.091705658720364],\n",
        "        'Vader': [1.0,1.0,1.0,1.0,1.0,1.0,1.0,1.0,1.0,1.0,1.0,1.0,1.0,1.0],\n",
        "        }\n",
        "df = pd.DataFrame (data, columns = ['Textblob','Vader'])"
      ],
      "execution_count": 0,
      "outputs": []
    },
    {
      "cell_type": "code",
      "metadata": {
        "id": "KjqtIvT7usP_",
        "colab_type": "code",
        "colab": {}
      },
      "source": [
        "#df['StanfordNLP']=df['StanfordNLP']-2"
      ],
      "execution_count": 0,
      "outputs": []
    },
    {
      "cell_type": "code",
      "metadata": {
        "id": "YcQxzVvDutYP",
        "colab_type": "code",
        "colab": {}
      },
      "source": [
        "#df['StanfordNLP']=df['StanfordNLP']/2"
      ],
      "execution_count": 0,
      "outputs": []
    },
    {
      "cell_type": "code",
      "metadata": {
        "id": "sUOrdt_LvXRH",
        "colab_type": "code",
        "colab": {}
      },
      "source": [
        "books=['Action at Aquila.txt',\n",
        " 'Anthony Adverse.txt',\n",
        " 'Cimarron.txt',\n",
        " 'Angel Pavement.txt',\n",
        " 'Dodsworth.txt',\n",
        " 'Rogue Herris.txt',\n",
        " 'Of Time and the River.txt',\n",
        " 'Magnificent Obsession.txt',\n",
        " 'Maid in Waiting.txt',\n",
        " 'Goodbye Mr Chips.txt',\n",
        " 'The Fountain.txt',\n",
        " 'The yearling.txt',\n",
        " 'The Good Earth.txt',\n",
        " 'The sheltered life.txt']"
      ],
      "execution_count": 0,
      "outputs": []
    },
    {
      "cell_type": "code",
      "metadata": {
        "id": "4nxxvGZudC7a",
        "colab_type": "code",
        "colab": {}
      },
      "source": [
        "df['Books']=books"
      ],
      "execution_count": 0,
      "outputs": []
    },
    {
      "cell_type": "code",
      "metadata": {
        "id": "pqoKkGUXuwti",
        "colab_type": "code",
        "outputId": "9ac5e9b2-0ae1-4a6b-8155-5be341c23289",
        "colab": {
          "base_uri": "https://localhost:8080/",
          "height": 468
        }
      },
      "source": [
        "df"
      ],
      "execution_count": 0,
      "outputs": [
        {
          "output_type": "execute_result",
          "data": {
            "text/html": [
              "<div>\n",
              "<style scoped>\n",
              "    .dataframe tbody tr th:only-of-type {\n",
              "        vertical-align: middle;\n",
              "    }\n",
              "\n",
              "    .dataframe tbody tr th {\n",
              "        vertical-align: top;\n",
              "    }\n",
              "\n",
              "    .dataframe thead th {\n",
              "        text-align: right;\n",
              "    }\n",
              "</style>\n",
              "<table border=\"1\" class=\"dataframe\">\n",
              "  <thead>\n",
              "    <tr style=\"text-align: right;\">\n",
              "      <th></th>\n",
              "      <th>Textblob</th>\n",
              "      <th>Vader</th>\n",
              "      <th>Books</th>\n",
              "    </tr>\n",
              "  </thead>\n",
              "  <tbody>\n",
              "    <tr>\n",
              "      <th>0</th>\n",
              "      <td>0.057265</td>\n",
              "      <td>1.0</td>\n",
              "      <td>Action at Aquila.txt</td>\n",
              "    </tr>\n",
              "    <tr>\n",
              "      <th>1</th>\n",
              "      <td>0.110886</td>\n",
              "      <td>1.0</td>\n",
              "      <td>Anthony Adverse.txt</td>\n",
              "    </tr>\n",
              "    <tr>\n",
              "      <th>2</th>\n",
              "      <td>0.089122</td>\n",
              "      <td>1.0</td>\n",
              "      <td>Cimarron.txt</td>\n",
              "    </tr>\n",
              "    <tr>\n",
              "      <th>3</th>\n",
              "      <td>0.073794</td>\n",
              "      <td>1.0</td>\n",
              "      <td>Angel Pavement.txt</td>\n",
              "    </tr>\n",
              "    <tr>\n",
              "      <th>4</th>\n",
              "      <td>0.089709</td>\n",
              "      <td>1.0</td>\n",
              "      <td>Dodsworth.txt</td>\n",
              "    </tr>\n",
              "    <tr>\n",
              "      <th>5</th>\n",
              "      <td>0.056425</td>\n",
              "      <td>1.0</td>\n",
              "      <td>Rogue Herris.txt</td>\n",
              "    </tr>\n",
              "    <tr>\n",
              "      <th>6</th>\n",
              "      <td>0.058942</td>\n",
              "      <td>1.0</td>\n",
              "      <td>Of Time and the River.txt</td>\n",
              "    </tr>\n",
              "    <tr>\n",
              "      <th>7</th>\n",
              "      <td>0.073911</td>\n",
              "      <td>1.0</td>\n",
              "      <td>Magnificent Obsession.txt</td>\n",
              "    </tr>\n",
              "    <tr>\n",
              "      <th>8</th>\n",
              "      <td>0.088287</td>\n",
              "      <td>1.0</td>\n",
              "      <td>Maid in Waiting.txt</td>\n",
              "    </tr>\n",
              "    <tr>\n",
              "      <th>9</th>\n",
              "      <td>0.080836</td>\n",
              "      <td>1.0</td>\n",
              "      <td>Goodbye Mr Chips.txt</td>\n",
              "    </tr>\n",
              "    <tr>\n",
              "      <th>10</th>\n",
              "      <td>0.061536</td>\n",
              "      <td>1.0</td>\n",
              "      <td>The Fountain.txt</td>\n",
              "    </tr>\n",
              "    <tr>\n",
              "      <th>11</th>\n",
              "      <td>0.069127</td>\n",
              "      <td>1.0</td>\n",
              "      <td>The yearling.txt</td>\n",
              "    </tr>\n",
              "    <tr>\n",
              "      <th>12</th>\n",
              "      <td>0.111545</td>\n",
              "      <td>1.0</td>\n",
              "      <td>The Good Earth.txt</td>\n",
              "    </tr>\n",
              "    <tr>\n",
              "      <th>13</th>\n",
              "      <td>0.091706</td>\n",
              "      <td>1.0</td>\n",
              "      <td>The sheltered life.txt</td>\n",
              "    </tr>\n",
              "  </tbody>\n",
              "</table>\n",
              "</div>"
            ],
            "text/plain": [
              "    Textblob  Vader                      Books\n",
              "0   0.057265    1.0       Action at Aquila.txt\n",
              "1   0.110886    1.0        Anthony Adverse.txt\n",
              "2   0.089122    1.0               Cimarron.txt\n",
              "3   0.073794    1.0         Angel Pavement.txt\n",
              "4   0.089709    1.0              Dodsworth.txt\n",
              "5   0.056425    1.0           Rogue Herris.txt\n",
              "6   0.058942    1.0  Of Time and the River.txt\n",
              "7   0.073911    1.0  Magnificent Obsession.txt\n",
              "8   0.088287    1.0        Maid in Waiting.txt\n",
              "9   0.080836    1.0       Goodbye Mr Chips.txt\n",
              "10  0.061536    1.0           The Fountain.txt\n",
              "11  0.069127    1.0           The yearling.txt\n",
              "12  0.111545    1.0         The Good Earth.txt\n",
              "13  0.091706    1.0     The sheltered life.txt"
            ]
          },
          "metadata": {
            "tags": []
          },
          "execution_count": 51
        }
      ]
    },
    {
      "cell_type": "code",
      "metadata": {
        "id": "iX7qPMdgdH8C",
        "colab_type": "code",
        "outputId": "9b34aee9-ec88-42c7-fba6-ee46415471c5",
        "colab": {
          "base_uri": "https://localhost:8080/",
          "height": 705
        }
      },
      "source": [
        "df.plot(x=\"Books\",kind='bar',color=['aqua', 'teal', 'darkslategray'],figsize=(10,10)) \n",
        "plt.xticks(rotation =45, horizontalalignment='right') \n",
        "#plt.yticks(ticks=[0.0,0.2,0.4,0.6,0.8,1.0],labels=['Very Negative','Negative','Neutral','Positive','Very Positive','xyz'])\n",
        "#plt.title(\"Comparison of Sentiment Analysis between Textblob and Vader for the entire book\", fontsize=15)\n",
        "plt.legend(loc=(1.04,0))\n",
        "plt.xlabel(\"Books\", labelpad=15)\n",
        "plt.ylabel(\"Polarity\", labelpad=15);"
      ],
      "execution_count": 0,
      "outputs": [
        {
          "output_type": "display_data",
          "data": {
            "image/png": "[encoded data removed]",
            "text/plain": [
              "<Figure size 720x720 with 1 Axes>"
            ]
          },
          "metadata": {
            "tags": [],
            "needs_background": "light"
          }
        }
      ]
    },
    {
      "cell_type": "code",
      "metadata": {
        "id": "Zy10jd26u5p7",
        "colab_type": "code",
        "colab": {}
      },
      "source": [
        ""
      ],
      "execution_count": 0,
      "outputs": []
    }
  ]
}